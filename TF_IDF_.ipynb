{
 "cells": [
  {
   "cell_type": "code",
   "execution_count": 36,
   "metadata": {},
   "outputs": [
    {
     "name": "stdout",
     "output_type": "stream",
     "text": [
      "[nltk_data] Downloading package stopwords to\n",
      "[nltk_data]     C:\\Users\\ASUS\\AppData\\Roaming\\nltk_data...\n",
      "[nltk_data]   Package stopwords is already up-to-date!\n"
     ]
    }
   ],
   "source": [
    "import re\n",
    "\n",
    "import nltk #import library nltk\n",
    "nltk.download('stopwords')\n",
    "from nltk.tokenize import word_tokenize #import word_tokenize for tokenizing text into words \n",
    "from nltk.tokenize import sent_tokenize #import sent_tokenize for tokenizing paragraph into sentences\n",
    "from nltk.corpus import stopwords #import stopwords\n",
    "from Sastrawi.StopWordRemover.StopWordRemoverFactory import StopWordRemoverFactory\n",
    "from nltk.tokenize import RegexpTokenizer\n",
    "from collections import Counter\n",
    "import re #import regular expression\n",
    "from nltk.corpus import stopwords \n",
    "from nltk.tokenize import word_tokenize \n",
    "import pandas as pd\n",
    "from sklearn.feature_extraction.text import TfidfVectorizer\n",
    "from nltk import word_tokenize"
   ]
  },
  {
   "cell_type": "code",
   "execution_count": 37,
   "metadata": {},
   "outputs": [
    {
     "data": {
      "text/plain": [
       "\"tirto.id - Para penggemar Harry Potter dibuat ramai ketika J.K Rowling dalam cuitannya mengungkapkan karakter Nagini terinspirasi dari kisah mitologi Jawa tentang Dewi Naga Gini. “Naga adalah makhluk dongeng mirip ular dalam mitologi Indonesia, dinamakan 'Nagini.' Mereka digambarkan sebagai makhluk bersayap setengah manusia, setengah ular,” cuit Rowling pada Rabu (26/09) lalu.\\n\\nNamun cuitan ini bukannya menarik simpati justru memunculkan kontroversi karena perumpamaan karakter Nagini dan Dewi Naga Gini dianggap tidak relevan. Bahkan bisa jadi pernyataan Rowling, tak lebih dari sekadar strategi bisnis semata.\\n\\nDalam semesta Harry Potter, Nagini adalah tokoh ular kaki tangan Voldemort, musuh bebuyutan Harry, yang muncul pada buku kedua dan keempat. Kemunculan Nagini selalu diproyeksikan untuk membuat kekacauan, menyusup, dan membunuh. Bagian paling memilukan dari cerita Nagini di Harry Potter adalah saat ketika ia membunuh Severus Snape, guru Harry. Pada buku ketujuh, diketahui ia termasuk media tepat Voldermort menyimpan horcrux, potongan jiwa abadi milik Voldermort. Nagini akhirnya mati dipenggal oleh Neville Longbottom menggunakan pedang Gryffindor.\\n\\nBaca juga: Bagaimana Harry Potter Menyihir Anak-Anak di Seluruh Dunia?\\n\\nKini karakter Nagini muncul kembali dalam film Fantastic Beast : Crimes of Grindelwald. Dalam cuplikan film tersebut, Nagini digambarkan sebagai sosok perempuan yang sewaktu-waktu dapat berubah menjadi ular. Karakter ini diperankan aktris Korea Selatan, Claudia Kim. Dilansir dari The Guardian, Rowling selama ini menyiapkan Nagini sebagai maledictus, manusia yang terjebak sebagai ular karena kutukan darah dari garis keluarga ibunya.\\n\\nSebelum peran jatuh ke tangan Claudia, aktris Indonesia, Acha Septriasa sempat ditawari memerankan karakter tersebut. Lewat akun Instagramnya @septriasaacha, perempuan ini mengungkap mendapat surel panggilan audisi dari sebuah agensi di London. Naskah yang ia terima bercerita tentang seorang perempuan bernama Natalie yang berdialog dengan Charles di rooftop kota Paris.\\n\\n“Sebuah karakter rapuh yang bisa menjelma menjadi siluman,” tulisnya.\\n\\nLima bulan kemudian ia mendapat kepastian bahwa peran tersebut adalah maledictus, The snake beast dalam lakon Fantastic Beast : The Crime of Grindelwald. Tapi karena usia kehamilannya jalan tujuh bulan, maka Acha memilih melewatkan kesempatan tersebut. \""
      ]
     },
     "execution_count": 37,
     "metadata": {},
     "output_type": "execute_result"
    }
   ],
   "source": [
    "file = open('TF-IDF.txt', 'r')\n",
    "file_data = file.read()\n",
    "file_data"
   ]
  },
  {
   "cell_type": "code",
   "execution_count": 38,
   "metadata": {},
   "outputs": [
    {
     "data": {
      "text/plain": [
       "\"tirto.id - para penggemar harry potter dibuat ramai ketika j.k rowling dalam cuitannya mengungkapkan karakter nagini terinspirasi dari kisah mitologi jawa tentang dewi naga gini. “naga adalah makhluk dongeng mirip ular dalam mitologi indonesia, dinamakan 'nagini.' mereka digambarkan sebagai makhluk bersayap setengah manusia, setengah ular,” cuit rowling pada rabu (26/09) lalu.\\n\\nnamun cuitan ini bukannya menarik simpati justru memunculkan kontroversi karena perumpamaan karakter nagini dan dewi naga gini dianggap tidak relevan. bahkan bisa jadi pernyataan rowling, tak lebih dari sekadar strategi bisnis semata.\\n\\ndalam semesta harry potter, nagini adalah tokoh ular kaki tangan voldemort, musuh bebuyutan harry, yang muncul pada buku kedua dan keempat. kemunculan nagini selalu diproyeksikan untuk membuat kekacauan, menyusup, dan membunuh. bagian paling memilukan dari cerita nagini di harry potter adalah saat ketika ia membunuh severus snape, guru harry. pada buku ketujuh, diketahui ia termasuk media tepat voldermort menyimpan horcrux, potongan jiwa abadi milik voldermort. nagini akhirnya mati dipenggal oleh neville longbottom menggunakan pedang gryffindor.\\n\\nbaca juga: bagaimana harry potter menyihir anak-anak di seluruh dunia?\\n\\nkini karakter nagini muncul kembali dalam film fantastic beast : crimes of grindelwald. dalam cuplikan film tersebut, nagini digambarkan sebagai sosok perempuan yang sewaktu-waktu dapat berubah menjadi ular. karakter ini diperankan aktris korea selatan, claudia kim. dilansir dari the guardian, rowling selama ini menyiapkan nagini sebagai maledictus, manusia yang terjebak sebagai ular karena kutukan darah dari garis keluarga ibunya.\\n\\nsebelum peran jatuh ke tangan claudia, aktris indonesia, acha septriasa sempat ditawari memerankan karakter tersebut. lewat akun instagramnya @septriasaacha, perempuan ini mengungkap mendapat surel panggilan audisi dari sebuah agensi di london. naskah yang ia terima bercerita tentang seorang perempuan bernama natalie yang berdialog dengan charles di rooftop kota paris.\\n\\n“sebuah karakter rapuh yang bisa menjelma menjadi siluman,” tulisnya.\\n\\nlima bulan kemudian ia mendapat kepastian bahwa peran tersebut adalah maledictus, the snake beast dalam lakon fantastic beast : the crime of grindelwald. tapi karena usia kehamilannya jalan tujuh bulan, maka acha memilih melewatkan kesempatan tersebut. \""
      ]
     },
     "execution_count": 38,
     "metadata": {},
     "output_type": "execute_result"
    }
   ],
   "source": [
    "def casefolding(s):\n",
    "    new_str = s.lower()   \n",
    "    return new_str\n",
    "file_case = casefolding(file_data)\n",
    "file_case"
   ]
  },
  {
   "cell_type": "code",
   "execution_count": 39,
   "metadata": {},
   "outputs": [
    {
     "data": {
      "text/plain": [
       "'tirto id   para penggemar harry potter dibuat ramai ketika j k rowling dalam cuitannya mengungkapkan karakter nagini terinspirasi dari kisah mitologi jawa tentang dewi naga gini   naga adalah makhluk dongeng mirip ular dalam mitologi indonesia  dinamakan  nagini   mereka digambarkan sebagai makhluk bersayap setengah manusia  setengah ular   cuit rowling pada rabu         lalu   namun cuitan ini bukannya menarik simpati justru memunculkan kontroversi karena perumpamaan karakter nagini dan dewi naga gini dianggap tidak relevan  bahkan bisa jadi pernyataan rowling  tak lebih dari sekadar strategi bisnis semata   dalam semesta harry potter  nagini adalah tokoh ular kaki tangan voldemort  musuh bebuyutan harry  yang muncul pada buku kedua dan keempat  kemunculan nagini selalu diproyeksikan untuk membuat kekacauan  menyusup  dan membunuh  bagian paling memilukan dari cerita nagini di harry potter adalah saat ketika ia membunuh severus snape  guru harry  pada buku ketujuh  diketahui ia termasuk media tepat voldermort menyimpan horcrux  potongan jiwa abadi milik voldermort  nagini akhirnya mati dipenggal oleh neville longbottom menggunakan pedang gryffindor   baca juga  bagaimana harry potter menyihir anak anak di seluruh dunia   kini karakter nagini muncul kembali dalam film fantastic beast   crimes of grindelwald  dalam cuplikan film tersebut  nagini digambarkan sebagai sosok perempuan yang sewaktu waktu dapat berubah menjadi ular  karakter ini diperankan aktris korea selatan  claudia kim  dilansir dari the guardian  rowling selama ini menyiapkan nagini sebagai maledictus  manusia yang terjebak sebagai ular karena kutukan darah dari garis keluarga ibunya   sebelum peran jatuh ke tangan claudia  aktris indonesia  acha septriasa sempat ditawari memerankan karakter tersebut  lewat akun instagramnya  septriasaacha  perempuan ini mengungkap mendapat surel panggilan audisi dari sebuah agensi di london  naskah yang ia terima bercerita tentang seorang perempuan bernama natalie yang berdialog dengan charles di rooftop kota paris    sebuah karakter rapuh yang bisa menjelma menjadi siluman   tulisnya   lima bulan kemudian ia mendapat kepastian bahwa peran tersebut adalah maledictus  the snake beast dalam lakon fantastic beast   the crime of grindelwald  tapi karena usia kehamilannya jalan tujuh bulan  maka acha memilih melewatkan kesempatan tersebut  '"
      ]
     },
     "execution_count": 39,
     "metadata": {},
     "output_type": "execute_result"
    }
   ],
   "source": [
    "def removePunc(str):\n",
    "    new_string =  re.sub(r\"[\\W,0-9,(_),(â)]\", \" \", str)\n",
    "    return new_string\n",
    "remove = removePunc(file_case)\n",
    "remove"
   ]
  },
  {
   "cell_type": "code",
   "execution_count": 40,
   "metadata": {},
   "outputs": [
    {
     "data": {
      "text/plain": [
       "'tirto id   para penggemar harry potter dibuat ramai ketika j k rowling dalam cuitannya mengungkapkan karakter nagini terinspirasi dari kisah mitologi jawa tentang dewi naga gini   naga adalah makhluk dongeng mirip ular dalam mitologi indonesia  dinamakan  nagini   mereka digambarkan sebagai makhluk bersayap setengah manusia  setengah ular   cuit rowling pada rabu         lalu   namun cuitan ini bukannya menarik simpati justru memunculkan kontroversi karena perumpamaan karakter nagini dan dewi naga gini dianggap tidak relevan  bahkan bisa jadi pernyataan rowling  tak lebih dari sekadar strategi bisnis semata   dalam semesta harry potter  nagini adalah tokoh ular kaki tangan voldemort  musuh bebuyutan harry  yang muncul pada buku kedua dan keempat  kemunculan nagini selalu diproyeksikan untuk membuat kekacauan  menyusup  dan membunuh  bagian paling memilukan dari cerita nagini di harry potter adalah saat ketika ia membunuh severus snape  guru harry  pada buku ketujuh  diketahui ia termasuk media tepat voldermort menyimpan horcrux  potongan jiwa abadi milik voldermort  nagini akhirnya mati dipenggal oleh neville longbottom menggunakan pedang gryffindor   baca juga  bagaimana harry potter menyihir anak anak di seluruh dunia   kini karakter nagini muncul kembali dalam film fantastic beast   crimes of grindelwald  dalam cuplikan film tersebut  nagini digambarkan sebagai sosok perempuan yang sewaktu waktu dapat berubah menjadi ular  karakter ini diperankan aktris korea selatan  claudia kim  dilansir dari the guardian  rowling selama ini menyiapkan nagini sebagai maledictus  manusia yang terjebak sebagai ular karena kutukan darah dari garis keluarga ibunya   sebelum peran jatuh ke tangan claudia  aktris indonesia  acha septriasa sempat ditawari memerankan karakter tersebut  lewat akun instagramnya  septriasaacha  perempuan ini mengungkap mendapat surel panggilan audisi dari sebuah agensi di london  naskah yang ia terima bercerita tentang seorang perempuan bernama natalie yang berdialog dengan charles di rooftop kota paris    sebuah karakter rapuh yang bisa menjelma menjadi siluman   tulisnya   lima bulan kemudian ia mendapat kepastian bahwa peran tersebut adalah maledictus  the snake beast dalam lakon fantastic beast   the crime of grindelwald  tapi karena usia kehamilannya jalan tujuh bulan  maka acha memilih melewatkan kesempatan tersebut  '"
      ]
     },
     "execution_count": 40,
     "metadata": {},
     "output_type": "execute_result"
    }
   ],
   "source": [
    "def removePunc(str):\n",
    "    new_string =  re.sub(r\"[\\W,0-9,(_),(â)]\", \" \", str)\n",
    "    return new_string\n",
    "remove_punc = removePunc(file_case)\n",
    "remove_punc"
   ]
  },
  {
   "cell_type": "code",
   "execution_count": 41,
   "metadata": {},
   "outputs": [
    {
     "data": {
      "text/plain": [
       "'tirto    para penggemar harry potter dibuat ramai ketika   rowling dalam cuitannya mengungkapkan karakter nagini terinspirasi dari kisah mitologi jawa tentang dewi naga gini   naga adalah makhluk dongeng mirip ular dalam mitologi indonesia  dinamakan  nagini   mereka digambarkan sebagai makhluk bersayap setengah manusia  setengah ular   cuit rowling pada rabu         lalu   namun cuitan  bukannya menarik simpati justru memunculkan kontroversi karena perumpamaan karakter nagini  dewi naga gini dianggap tidak relevan  bahkan bisa jadi pernyataan rowling   lebih dari sekadar strategi bisnis semata   dalam semesta harry potter  nagini adalah tokoh ular kaki tangan voldemort  musuh bebuyutan harry  yang muncul pada buku kedua  keempat  kemunculan nagini selalu diproyeksikan untuk membuat kekacauan  menyusup   membunuh  bagian paling memilukan dari cerita nagini  harry potter adalah saat ketika  membunuh severus snape  guru harry  pada buku ketujuh  diketahui  termasuk media tepat voldermort menyimpan horcrux  potongan jiwa abadi milik voldermort  nagini akhirnya mati dipenggal oleh neville longbottom menggunakan pedang gryffindor   baca juga  bagaimana harry potter menyihir anak anak  seluruh dunia   kini karakter nagini muncul kembali dalam film fantastic beast   crimes  grindelwald  dalam cuplikan film tersebut  nagini digambarkan sebagai sosok perempuan yang sewaktu waktu dapat berubah menjadi ular  karakter  diperankan aktris korea selatan  claudia   dilansir dari  guardian  rowling selama  menyiapkan nagini sebagai maledictus  manusia yang terjebak sebagai ular karena kutukan darah dari garis keluarga ibunya   sebelum peran jatuh  tangan claudia  aktris indonesia  acha septriasa sempat ditawari memerankan karakter tersebut  lewat akun instagramnya  septriasaacha  perempuan  mengungkap mendapat surel panggilan audisi dari sebuah agensi  london  naskah yang  terima bercerita tentang seorang perempuan bernama natalie yang berdialog dengan charles  rooftop kota paris    sebuah karakter rapuh yang bisa menjelma menjadi siluman   tulisnya   lima bulan kemudian  mendapat kepastian bahwa peran tersebut adalah maledictus   snake beast dalam lakon fantastic beast    crime  grindelwald  tapi karena usia kehamilannya jalan tujuh bulan  maka acha memilih melewatkan kesempatan tersebut  '"
      ]
     },
     "execution_count": 41,
     "metadata": {},
     "output_type": "execute_result"
    }
   ],
   "source": [
    "def removeshortwords(str):\n",
    "    string_sw = re.sub(r'\\b\\w{1,3}\\b', '', str)\n",
    "    return string_sw\n",
    "remove_short = removeshortwords(remove_punc)\n",
    "remove_short"
   ]
  },
  {
   "cell_type": "code",
   "execution_count": 42,
   "metadata": {},
   "outputs": [
    {
     "data": {
      "text/plain": [
       "'tirto para penggemar harry potter dibuat ramai ketika rowling dalam cuitannya mengungkapkan karakter nagini terinspirasi dari kisah mitologi jawa tentang dewi naga gini naga adalah makhluk dongeng mirip ular dalam mitologi indonesia dinamakan nagini mereka digambarkan sebagai makhluk bersayap setengah manusia setengah ular cuit rowling pada rabu lalu namun cuitan bukannya menarik simpati justru memunculkan kontroversi karena perumpamaan karakter nagini dewi naga gini dianggap tidak relevan bahkan bisa jadi pernyataan rowling lebih dari sekadar strategi bisnis semata dalam semesta harry potter nagini adalah tokoh ular kaki tangan voldemort musuh bebuyutan harry yang muncul pada buku kedua keempat kemunculan nagini selalu diproyeksikan untuk membuat kekacauan menyusup membunuh bagian paling memilukan dari cerita nagini harry potter adalah saat ketika membunuh severus snape guru harry pada buku ketujuh diketahui termasuk media tepat voldermort menyimpan horcrux potongan jiwa abadi milik voldermort nagini akhirnya mati dipenggal oleh neville longbottom menggunakan pedang gryffindor baca juga bagaimana harry potter menyihir anak anak seluruh dunia kini karakter nagini muncul kembali dalam film fantastic beast crimes grindelwald dalam cuplikan film tersebut nagini digambarkan sebagai sosok perempuan yang sewaktu waktu dapat berubah menjadi ular karakter diperankan aktris korea selatan claudia dilansir dari guardian rowling selama menyiapkan nagini sebagai maledictus manusia yang terjebak sebagai ular karena kutukan darah dari garis keluarga ibunya sebelum peran jatuh tangan claudia aktris indonesia acha septriasa sempat ditawari memerankan karakter tersebut lewat akun instagramnya septriasaacha perempuan mengungkap mendapat surel panggilan audisi dari sebuah agensi london naskah yang terima bercerita tentang seorang perempuan bernama natalie yang berdialog dengan charles rooftop kota paris sebuah karakter rapuh yang bisa menjelma menjadi siluman tulisnya lima bulan kemudian mendapat kepastian bahwa peran tersebut adalah maledictus snake beast dalam lakon fantastic beast crime grindelwald tapi karena usia kehamilannya jalan tujuh bulan maka acha memilih melewatkan kesempatan tersebut '"
      ]
     },
     "execution_count": 42,
     "metadata": {},
     "output_type": "execute_result"
    }
   ],
   "source": [
    "def removeSpace(str):\n",
    "    rm_space = re.sub(' +',' ',str)\n",
    "    return rm_space\n",
    "removespace = removeSpace(remove_short)\n",
    "removespace"
   ]
  },
  {
   "cell_type": "code",
   "execution_count": 43,
   "metadata": {},
   "outputs": [
    {
     "data": {
      "text/plain": [
       "'tirto penggemar harry potter ramai rowling cuitannya karakter nagini terinspirasi kisah mitologi jawa dewi naga gini naga makhluk dongeng ular mitologi indonesia dinamakan nagini digambarkan makhluk bersayap manusia ular cuit rowling rabu cuitan menarik simpati memunculkan kontroversi perumpamaan karakter nagini dewi naga gini dianggap relevan pernyataan rowling strategi bisnis semesta harry potter nagini tokoh ular kaki tangan voldemort musuh bebuyutan harry muncul buku keempat kemunculan nagini diproyeksikan kekacauan menyusup membunuh memilukan cerita nagini harry potter membunuh severus snape guru harry buku ketujuh media voldermort menyimpan horcrux potongan jiwa abadi milik voldermort nagini mati dipenggal neville longbottom pedang gryffindor baca harry potter menyihir anak anak dunia karakter nagini muncul film fantastic beast crimes grindelwald cuplikan film nagini digambarkan sosok perempuan berubah ular karakter diperankan aktris korea selatan claudia dilansir guardian rowling nagini maledictus manusia terjebak ular kutukan darah garis keluarga ibunya peran jatuh tangan claudia aktris indonesia acha septriasa ditawari memerankan karakter akun instagramnya septriasaacha perempuan mengungkap surel panggilan audisi agensi london naskah terima bercerita perempuan bernama natalie berdialog charles rooftop kota paris karakter rapuh menjelma siluman tulisnya kepastian peran maledictus snake beast lakon fantastic beast crime grindelwald usia kehamilannya jalan tujuh acha memilih melewatkan kesempatan'"
      ]
     },
     "execution_count": 43,
     "metadata": {},
     "output_type": "execute_result"
    }
   ],
   "source": [
    "#Stopwords\n",
    "def stpword(str):  \n",
    "    stop_words = set(stopwords.words('indonesian')) \n",
    "    \n",
    "    word_tokens = word_tokenize(str) \n",
    "    filtered_sentence = [w for w in word_tokens if not w in stop_words]\n",
    "    filtered_sentence = [] \n",
    "\n",
    "    for w in word_tokens: \n",
    "        if w not in stop_words: \n",
    "                filtered_sentence.append(w)\n",
    "    return filtered_sentence\n",
    "text_stop = stpword(removespace)\n",
    "text_stop = ' '.join(text_stop)\n",
    "text_stop"
   ]
  },
  {
   "cell_type": "code",
   "execution_count": 49,
   "metadata": {},
   "outputs": [
    {
     "data": {
      "text/plain": [
       "['tirto',\n",
       " 'penggemar',\n",
       " 'harry',\n",
       " 'potter',\n",
       " 'ramai',\n",
       " 'rowling',\n",
       " 'cuitannya',\n",
       " 'karakter',\n",
       " 'nagini',\n",
       " 'terinspirasi',\n",
       " 'kisah',\n",
       " 'mitologi',\n",
       " 'jawa',\n",
       " 'dewi',\n",
       " 'naga',\n",
       " 'gini',\n",
       " 'naga',\n",
       " 'makhluk',\n",
       " 'dongeng',\n",
       " 'ular',\n",
       " 'mitologi',\n",
       " 'indonesia',\n",
       " 'dinamakan',\n",
       " 'nagini',\n",
       " 'digambarkan',\n",
       " 'makhluk',\n",
       " 'bersayap',\n",
       " 'manusia',\n",
       " 'ular',\n",
       " 'cuit',\n",
       " 'rowling',\n",
       " 'rabu',\n",
       " 'cuitan',\n",
       " 'menarik',\n",
       " 'simpati',\n",
       " 'memunculkan',\n",
       " 'kontroversi',\n",
       " 'perumpamaan',\n",
       " 'karakter',\n",
       " 'nagini',\n",
       " 'dewi',\n",
       " 'naga',\n",
       " 'gini',\n",
       " 'dianggap',\n",
       " 'relevan',\n",
       " 'pernyataan',\n",
       " 'rowling',\n",
       " 'strategi',\n",
       " 'bisnis',\n",
       " 'semesta',\n",
       " 'harry',\n",
       " 'potter',\n",
       " 'nagini',\n",
       " 'tokoh',\n",
       " 'ular',\n",
       " 'kaki',\n",
       " 'tangan',\n",
       " 'voldemort',\n",
       " 'musuh',\n",
       " 'bebuyutan',\n",
       " 'harry',\n",
       " 'muncul',\n",
       " 'buku',\n",
       " 'keempat',\n",
       " 'kemunculan',\n",
       " 'nagini',\n",
       " 'diproyeksikan',\n",
       " 'kekacauan',\n",
       " 'menyusup',\n",
       " 'membunuh',\n",
       " 'memilukan',\n",
       " 'cerita',\n",
       " 'nagini',\n",
       " 'harry',\n",
       " 'potter',\n",
       " 'membunuh',\n",
       " 'severus',\n",
       " 'snape',\n",
       " 'guru',\n",
       " 'harry',\n",
       " 'buku',\n",
       " 'ketujuh',\n",
       " 'media',\n",
       " 'voldermort',\n",
       " 'menyimpan',\n",
       " 'horcrux',\n",
       " 'potongan',\n",
       " 'jiwa',\n",
       " 'abadi',\n",
       " 'milik',\n",
       " 'voldermort',\n",
       " 'nagini',\n",
       " 'mati',\n",
       " 'dipenggal',\n",
       " 'neville',\n",
       " 'longbottom',\n",
       " 'pedang',\n",
       " 'gryffindor',\n",
       " 'baca',\n",
       " 'harry',\n",
       " 'potter',\n",
       " 'menyihir',\n",
       " 'anak',\n",
       " 'anak',\n",
       " 'dunia',\n",
       " 'karakter',\n",
       " 'nagini',\n",
       " 'muncul',\n",
       " 'film',\n",
       " 'fantastic',\n",
       " 'beast',\n",
       " 'crimes',\n",
       " 'grindelwald',\n",
       " 'cuplikan',\n",
       " 'film',\n",
       " 'nagini',\n",
       " 'digambarkan',\n",
       " 'sosok',\n",
       " 'perempuan',\n",
       " 'berubah',\n",
       " 'ular',\n",
       " 'karakter',\n",
       " 'diperankan',\n",
       " 'aktris',\n",
       " 'korea',\n",
       " 'selatan',\n",
       " 'claudia',\n",
       " 'dilansir',\n",
       " 'guardian',\n",
       " 'rowling',\n",
       " 'nagini',\n",
       " 'maledictus',\n",
       " 'manusia',\n",
       " 'terjebak',\n",
       " 'ular',\n",
       " 'kutukan',\n",
       " 'darah',\n",
       " 'garis',\n",
       " 'keluarga',\n",
       " 'ibunya',\n",
       " 'peran',\n",
       " 'jatuh',\n",
       " 'tangan',\n",
       " 'claudia',\n",
       " 'aktris',\n",
       " 'indonesia',\n",
       " 'acha',\n",
       " 'septriasa',\n",
       " 'ditawari',\n",
       " 'memerankan',\n",
       " 'karakter',\n",
       " 'akun',\n",
       " 'instagramnya',\n",
       " 'septriasaacha',\n",
       " 'perempuan',\n",
       " 'mengungkap',\n",
       " 'surel',\n",
       " 'panggilan',\n",
       " 'audisi',\n",
       " 'agensi',\n",
       " 'london',\n",
       " 'naskah',\n",
       " 'terima',\n",
       " 'bercerita',\n",
       " 'perempuan',\n",
       " 'bernama',\n",
       " 'natalie',\n",
       " 'berdialog',\n",
       " 'charles',\n",
       " 'rooftop',\n",
       " 'kota',\n",
       " 'paris',\n",
       " 'karakter',\n",
       " 'rapuh',\n",
       " 'menjelma',\n",
       " 'siluman',\n",
       " 'tulisnya',\n",
       " 'kepastian',\n",
       " 'peran',\n",
       " 'maledictus',\n",
       " 'snake',\n",
       " 'beast',\n",
       " 'lakon',\n",
       " 'fantastic',\n",
       " 'beast',\n",
       " 'crime',\n",
       " 'grindelwald',\n",
       " 'usia',\n",
       " 'kehamilannya',\n",
       " 'jalan',\n",
       " 'tujuh',\n",
       " 'acha',\n",
       " 'memilih',\n",
       " 'melewatkan',\n",
       " 'kesempatan']"
      ]
     },
     "execution_count": 49,
     "metadata": {},
     "output_type": "execute_result"
    }
   ],
   "source": [
    "#word tokenization\n",
    "def word_tokenization(s):\n",
    "    tokens = word_tokenize(s)\n",
    "    return tokens  \n",
    "text_data = word_tokenization(text_stop)\n",
    "text_data"
   ]
  },
  {
   "cell_type": "code",
   "execution_count": 51,
   "metadata": {},
   "outputs": [
    {
     "data": {
      "text/plain": [
       "nagini         10.0\n",
       "harry           6.0\n",
       "karakter        6.0\n",
       "ular            5.0\n",
       "rowling         4.0\n",
       "potter          4.0\n",
       "beast           3.0\n",
       "naga            3.0\n",
       "perempuan       3.0\n",
       "peran           2.0\n",
       "membunuh        2.0\n",
       "dewi            2.0\n",
       "voldermort      2.0\n",
       "digambarkan     2.0\n",
       "claudia         2.0\n",
       "grindelwald     2.0\n",
       "gini            2.0\n",
       "film            2.0\n",
       "fantastic       2.0\n",
       "muncul          2.0\n",
       "indonesia       2.0\n",
       "mitologi        2.0\n",
       "tangan          2.0\n",
       "buku            2.0\n",
       "maledictus      2.0\n",
       "acha            2.0\n",
       "makhluk         2.0\n",
       "aktris          2.0\n",
       "anak            2.0\n",
       "manusia         2.0\n",
       "               ... \n",
       "paris           1.0\n",
       "panggilan       1.0\n",
       "ketujuh         1.0\n",
       "kisah           1.0\n",
       "kontroversi     1.0\n",
       "korea           1.0\n",
       "kota            1.0\n",
       "voldemort       1.0\n",
       "lakon           1.0\n",
       "london          1.0\n",
       "longbottom      1.0\n",
       "mati            1.0\n",
       "media           1.0\n",
       "melewatkan      1.0\n",
       "memerankan      1.0\n",
       "memilih         1.0\n",
       "memilukan       1.0\n",
       "memunculkan     1.0\n",
       "menarik         1.0\n",
       "mengungkap      1.0\n",
       "menjelma        1.0\n",
       "menyihir        1.0\n",
       "menyimpan       1.0\n",
       "menyusup        1.0\n",
       "milik           1.0\n",
       "musuh           1.0\n",
       "naskah          1.0\n",
       "natalie         1.0\n",
       "neville         1.0\n",
       "abadi           1.0\n",
       "Length: 139, dtype: float64"
      ]
     },
     "execution_count": 51,
     "metadata": {},
     "output_type": "execute_result"
    }
   ],
   "source": [
    "text = [\" \".join(word_tokenization(txt.lower())) for txt in text_data]\n",
    "vectorizer = TfidfVectorizer()\n",
    "matrix = vectorizer.fit_transform(text).todense()\n",
    "# transform the matrix to a pandas df\n",
    "matrix = pd.DataFrame(matrix, columns=vectorizer.get_feature_names())\n",
    "# sum over each document (axis=0)\n",
    "top_words = matrix.sum(axis=0).sort_values(ascending=False)\n",
    "top_words"
   ]
  },
  {
   "cell_type": "code",
   "execution_count": null,
   "metadata": {},
   "outputs": [],
   "source": []
  }
 ],
 "metadata": {
  "kernelspec": {
   "display_name": "Python 3",
   "language": "python",
   "name": "python3"
  },
  "language_info": {
   "codemirror_mode": {
    "name": "ipython",
    "version": 3
   },
   "file_extension": ".py",
   "mimetype": "text/x-python",
   "name": "python",
   "nbconvert_exporter": "python",
   "pygments_lexer": "ipython3",
   "version": "3.6.5"
  }
 },
 "nbformat": 4,
 "nbformat_minor": 2
}
