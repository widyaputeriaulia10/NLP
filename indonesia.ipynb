{
 "cells": [
  {
   "cell_type": "code",
   "execution_count": 61,
   "metadata": {},
   "outputs": [
    {
     "name": "stdout",
     "output_type": "stream",
     "text": [
      "[nltk_data] Downloading package stopwords to\n",
      "[nltk_data]     C:\\Users\\ASUS\\AppData\\Roaming\\nltk_data...\n",
      "[nltk_data]   Package stopwords is already up-to-date!\n"
     ]
    }
   ],
   "source": [
    "import nltk #import library nltk\n",
    "nltk.download('stopwords')\n",
    "from nltk.tokenize import word_tokenize #import word_tokenize for tokenizing text into words \n",
    "from nltk.tokenize import sent_tokenize #import sent_tokenize for tokenizing paragraph into sentences\n",
    "from nltk.stem.porter import PorterStemmer #import Porter Stemmer Algorithm \n",
    "from nltk.stem import WordNetLemmatizer #import WordNet lemmatizer \n",
    "from nltk.corpus import stopwords #import stopwords\n",
    "from nltk.tokenize import RegexpTokenizer\n",
    "from Sastrawi.Stemmer.StemmerFactory import StemmerFactory #import Indonesian Stemmer\n",
    "from Sastrawi.StopWordRemover.StopWordRemoverFactory import StopWordRemoverFactory\n",
    "from collections import Counter\n",
    "import re #import regular expression\n",
    "from nltk.corpus import stopwords \n",
    "from nltk.tokenize import word_tokenize "
   ]
  },
  {
   "cell_type": "code",
   "execution_count": 70,
   "metadata": {},
   "outputs": [],
   "source": [
    "#tokenization\n",
    "def sentence_tokenization(s):\n",
    "    sentences_list = sent_tokenize(s)\n",
    "    \n",
    "    return sentences_list\n",
    "\n",
    "#casefolding\n",
    "def casefolding(s):\n",
    "    new_str = s.lower()\n",
    "    \n",
    "    return new_str\n",
    "\n",
    "def removeDigit(str):\n",
    "    new_string = re.sub(r\"[,(.)][^:/]\",\" \", str )\n",
    "    return new_string\n",
    "\n",
    "#Stemming Indonesian\n",
    "def stemmingIndo(str):\n",
    "    factory = StemmerFactory()\n",
    "    stemmer = factory.create_stemmer()\n",
    "    return stemmer.stem(str)\n",
    "\n",
    "def stopword(str):\n",
    "    stop_words = set(stopwords.words('indonesian')) \n",
    "    word_tokens = word_tokenize(stemming_text) \n",
    "    filtered_sentence = [w for w in word_tokens if not w in stop_words]  \n",
    "    filtered_sentence = [] \n",
    "    for w in word_tokens:  \n",
    "        if w not in stop_words: \n",
    "            filtered_sentence.append(w)\n",
    "    return filtered_sentence\n",
    "\n",
    "#pos tagging\n",
    "def postag(str):\n",
    "    tok_sentence = nltk.word_tokenize(str)\n",
    "    tagged_sentence = nltk.pos_tag(tok_sentence)\n",
    "    return tagged_sentence\n"
   ]
  },
  {
   "cell_type": "code",
   "execution_count": 82,
   "metadata": {},
   "outputs": [
    {
     "name": "stdout",
     "output_type": "stream",
     "text": [
      "[('pamer', 'NN'), ('ketenagalistrikan', 'NN'), ('ajang', 'NN'), ('jaga', 'NN'), ('listrik', 'VBD'), ('nasional', 'JJ'), ('jakarta', 'NN'), ('cnn', 'NN'), ('indonesia', 'NN'), ('upaya', 'JJ'), ('sektor', 'NN'), ('ketenagalistrikan', 'NN'), ('indonesia', 'NN'), ('asia', 'NN'), ('tenggara', 'NN'), ('laku', 'NN'), ('laku', 'NN'), ('sektor', 'NN'), ('ketenagalistrikan', 'VBD'), ('rupa', 'JJ'), ('salah', 'NN'), ('gerak', 'NN'), ('ekonomi', 'NN'), ('bangun', 'NN'), ('sektor', 'NN'), ('ketenagalistrikan', 'VBD'), ('salah', 'JJ'), ('gerak', 'NN'), ('utama', 'JJ'), ('ekonomi', 'NN'), ('bangun', 'VBD'), ('nasional', 'JJ'), ('indonesia', 'NN'), ('ketua', 'NN'), ('masyarakat', 'NN'), ('ketenagalistrikan', 'NN'), ('indonesia', 'NN'), ('supangkat', 'NN'), ('iwan', 'NN'), ('santoso', 'NN'), ('terang', 'NN'), ('tulis', 'NN'), ('rabu', 'NN'), ('iwan', 'NN'), ('pasok', 'NN'), ('listrik', 'JJ'), ('nasional', 'JJ'), ('peluk', 'NN'), ('peran', 'NN'), ('ganda', 'NN'), ('swasta', 'NN'), ('perintah', 'NN'), ('peran', 'NN'), ('swasta', 'NN'), ('perintah', 'NN'), ('pasok', 'NN'), ('listrik', 'NN'), ('indonesia', 'NN'), ('pasok', 'NN'), ('listrik', 'NN'), ('industri', 'NN'), ('tumbuh', 'NN'), ('daerah', 'NN'), ('kota', 'NN'), ('daerah', 'NN'), ('pencil', 'NN'), ('tingkat', 'NN'), ('negara', 'NN'), ('iwan', 'NN'), ('penuh', 'NN'), ('butuh', 'NN'), ('listrik', 'NN'), ('gantung', 'NN'), ('sedia', 'NN'), ('energi', 'NN'), ('butuh', 'NN'), ('sinergi', 'NN'), ('manfaat', 'NN'), ('energi', 'NN'), ('fosil', 'NN'), ('energi', 'NN'), ('jamin', 'NN'), ('tumbuh', 'NN'), ('sektor', 'NN'), ('ketenagalistrikan', 'NN'), ('tanah', 'NN'), ('air', 'NN'), ('listrik', 'JJ'), ('nasional', 'JJ'), ('ke73', 'NN'), ('mki', 'NN'), ('pennwell', 'NN'), ('usaha', 'JJ'), ('selenggara', 'NN'), ('pamer', 'NN'), ('internasional', 'JJ'), ('konferensi', 'NN'), ('pamer', 'NN'), ('tajuk', 'NN'), ('listrik', 'JJ'), ('nasional', 'JJ'), ('ke73', 'NN'), ('powergen', 'NN'), ('asia', 'NN'), ('2018', 'CD'), ('erlokasi', 'NN'), ('indonesia', 'NN'), ('convention', 'NN'), ('exhibition', 'NN'), ('bsd', 'NN'), ('tangerang', 'NN'), ('selatan', 'NN'), ('acara', 'NN'), ('buka', 'NN'), ('langsung', 'NN'), ('menteri', 'NN'), ('koordinator', 'NN'), ('ekonomi', 'NN'), ('indonesia', 'NN'), ('darmin', 'NN'), ('nasution', 'NN'), ('rencana', 'NN'), ('acara', 'NN'), ('langsung', 'VBD'), ('20', 'CD'), ('september', 'NN'), ('2018', 'CD'), ('informasi', 'NN'), ('powergen', 'NN'), ('asia', 'NN'), ('jalan', 'NN'), ('25', 'CD'), ('forum', 'NN'), ('khusus', 'NN'), ('laku', 'NN'), ('industri', 'NN'), ('tenaga', 'NN'), ('listrik', 'NN'), ('asia', 'VBD'), ('75', 'CD'), ('negara', 'JJ'), ('tukar', 'NN'), ('ide', 'NN'), ('laku', 'NN'), ('kerja', 'NN'), ('bisnis', 'NN'), ('kuat', 'NN'), ('koneksi', 'NN'), ('global', 'JJ'), ('indonesia', 'NN'), ('hln', 'NN'), ('rupa', 'NN'), ('acara', 'NN'), ('mki', 'NN'), ('laku', 'NN'), ('upaya', 'JJ'), ('dukung', 'NN'), ('program', 'NN'), ('listrik', 'VBZ'), ('nasional', 'JJ'), ('perintah', 'NN'), ('indonesia', 'NN'), ('sesuai', 'JJ'), ('komitmen', 'NNS'), ('pennwell', 'VBP'), ('jaga', 'NN'), ('langsung', 'NN'), ('ajang', 'NN'), ('konsistensi', 'VBD'), ('kumpul', 'JJ'), ('pakar', 'NN'), ('praktisi', 'NN'), ('regulator', 'NN'), ('sektor', 'NN'), ('ketenagalistrikan', 'VBD'), ('diskusi', 'JJ'), ('upaya', 'JJ'), ('ideal', 'NN'), ('dorong', 'JJ'), ('langsung', 'NN'), ('sektor', 'NN'), ('ketenagalistrikan', 'VBD'), ('nasional', 'JJ'), ('acara', 'NN'), ('irwan', 'NN'), ('temu', 'NN'), ('skala', 'VBD'), ('internasional', 'JJ'), ('interaksi', 'NN'), ('250', 'CD'), ('usaha', 'JJ'), ('organisasi', 'NN'), ('puluh', 'NN'), ('paviliun', 'NN'), ('indonesia', 'NN'), ('hasil', 'NN'), ('tarik', 'NN'), ('investor', 'NN'), ('lokal', 'JJ'), ('internasional', 'JJ'), ('tanda', 'NN'), ('mang', 'NN'), ('milik', 'NN'), ('tingkat', 'NN'), ('sadar', 'NN'), ('dukung', 'NN'), ('inisiatif', 'VBP'), ('kait', 'NN'), ('kembang', 'NN'), ('sektor', 'NN'), ('ketenagalistrikan', 'VBD'), ('nasional', 'JJ'), ('beda', 'NN'), ('direktur', 'NN'), ('powergen', 'NN'), ('asia', 'NN'), ('dr', 'NN'), ('heather', 'PRP$'), ('johnstone', 'NN'), ('sedia', 'NN'), ('energi', 'NN'), ('sektor', 'NN'), ('ketenagalistrikan', 'VBD'), ('sesuai', 'JJ'), ('cepat', 'NN'), ('tingkat', 'NN'), ('butuh', 'NN'), ('energi', 'VBP'), ('nasional', 'JJ'), ('jamin', 'NN'), ('sedia', 'NN'), ('energi', 'NN'), ('sektor', 'NN'), ('ketenagalistrikan', 'VBD'), ('sesuai', 'JJ'), ('cepat', 'NN'), ('tingkat', 'NN'), ('butuh', 'NN'), ('energi', 'VBP'), ('nasional', 'JJ'), ('iring', 'NN'), ('tumbuh', 'NN'), ('ekonomi', 'NN'), ('duduk', 'NN'), ('sedia', 'NN'), ('energi', 'NN'), ('pegang', 'NN'), ('peran', 'NN'), ('dukung', 'NN'), ('bangun', 'NN'), ('ekonomi', 'VBP'), ('negara', 'RB'), ('pennwell', 'VBP'), ('hormat', 'JJ'), ('kerja', 'NN'), ('mki', 'NN'), ('selenggara', 'NN'), ('acara', 'NN'), ('pennwell', 'NN'), ('paham', 'NN'), ('mang', 'NN'), ('menindaklanjuti', 'NN'), ('kembang', 'VBD'), ('sektor', 'NN'), ('ketenagalistrikan', 'NN'), ('indonesia', 'NN'), ('langkah', 'NN'), ('nyata', 'NNS'), ('harap', 'NN'), ('mitra', 'VBP'), ('powergen', 'NN'), ('asia', 'NN'), ('hln', 'NN'), ('tarik', 'NN'), ('mitra', 'JJ'), ('industri', 'JJ'), ('investor', 'NN'), ('nasional', 'JJ'), ('internasional', 'JJ'), ('pungkas', 'NN')]\n"
     ]
    }
   ],
   "source": [
    "def main():\n",
    "    file = open('artikel bahasa indonesia.txt', 'r')\n",
    "    text_data = file.read()\n",
    "    token = sentence_tokenization(text_data)\n",
    "    text_data = re.sub(r'\\([^)]*\\)', '', text_data)\n",
    "    casefold = casefolding(text_data)\n",
    "    rmvdigit = removeDigit(casefold)\n",
    "    stemming_text = stemmingIndo(casefold)\n",
    "    stemming_textrep = stemming_text.replace('-','')\n",
    "    str1 = ' '.join(filtered_sentence)\n",
    "    pt = postag(str1)\n",
    "    hitung = Counter(filtered_sentence)\n",
    "    print(pt)\n",
    "\n",
    "if __name__== \"__main__\":\n",
    "    main()"
   ]
  },
  {
   "cell_type": "code",
   "execution_count": null,
   "metadata": {},
   "outputs": [],
   "source": []
  }
 ],
 "metadata": {
  "kernelspec": {
   "display_name": "Python 3",
   "language": "python",
   "name": "python3"
  },
  "language_info": {
   "codemirror_mode": {
    "name": "ipython",
    "version": 3
   },
   "file_extension": ".py",
   "mimetype": "text/x-python",
   "name": "python",
   "nbconvert_exporter": "python",
   "pygments_lexer": "ipython3",
   "version": "3.6.5"
  }
 },
 "nbformat": 4,
 "nbformat_minor": 2
}
