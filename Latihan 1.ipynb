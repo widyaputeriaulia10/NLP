{
 "cells": [
  {
   "cell_type": "code",
   "execution_count": 226,
   "metadata": {},
   "outputs": [
    {
     "name": "stdout",
     "output_type": "stream",
     "text": [
      "[nltk_data] Downloading package stopwords to\n",
      "[nltk_data]     C:\\Users\\ASUS\\AppData\\Roaming\\nltk_data...\n",
      "[nltk_data]   Package stopwords is already up-to-date!\n"
     ]
    }
   ],
   "source": [
    "import nltk #import library nltk\n",
    "nltk.download('stopwords')\n",
    "from nltk.tokenize import word_tokenize #import word_tokenize for tokenizing text into words \n",
    "from nltk.tokenize import sent_tokenize #import sent_tokenize for tokenizing paragraph into sentences\n",
    "from nltk.corpus import stopwords #import stopwords\n",
    "from nltk.tokenize import RegexpTokenizer\n",
    "from Sastrawi.StopWordRemover.StopWordRemoverFactory import StopWordRemoverFactory\n",
    "from collections import Counter\n",
    "import re #import regular expression\n",
    "from nltk.corpus import stopwords \n",
    "from nltk.tokenize import word_tokenize "
   ]
  },
  {
   "cell_type": "code",
   "execution_count": 239,
   "metadata": {},
   "outputs": [],
   "source": [
    "#tokenization\n",
    "def sentence_tokenization(s):\n",
    "    sentences_list = sent_tokenize(s)\n",
    "    return sentences_list\n",
    "\n",
    "def casefolding(s):\n",
    "    new_str = s.lower()   \n",
    "    return new_str \n",
    "\n",
    "#remove url\n",
    "def removeLink(str):\n",
    "    rm_link = re.sub(r'(?i)\\b((?:https?://|www\\d{0,3}[.]|[a-z0-9.\\-]+[.][a-z]{2,4}     /)(?:[^\\s()<>]+|\\(([^\\s()<>]+|(\\([^\\s()<>]+\\)))*\\))+(?:\\(([^\\s()<>]+|(\\([^\\s()<>]+\\)))*\\)|[^\\s`!()\\[\\]{};:\\'\".,<>?«»“”‘’]))', '', str)  \n",
    "    return rm_link\n",
    "\n",
    "def removePunc(str):\n",
    "    new_string =  re.sub(r\"[\\W,0-9,(_),(â)]\", \" \", str)\n",
    "    return new_string\n",
    "\n",
    "def removeshortwords(str):\n",
    "    string_sw = re.sub(r'\\b\\w{1,3}\\b', '', str)\n",
    "    return string_sw\n",
    "\n",
    "#remove multiple space\n",
    "def removeSpace(str):\n",
    "    rm_space = re.sub(' +',' ',str)\n",
    "    return rm_space\n",
    "\n",
    "#Stopwords\n",
    "def stpword(str):  \n",
    "    stop_words = set(stopwords.words('indonesian')) \n",
    "    stop_words1 = set(stopwords.words('english'))\n",
    "    \n",
    "    word_tokens = word_tokenize(str) \n",
    "    \n",
    "    filtered_sentence = [w for w in word_tokens if not w in stop_words]\n",
    "    filtered_sentence = [w for w in word_tokens if not w in stop_words1]\n",
    "    filtered_sentence = [] \n",
    "\n",
    "    for w in word_tokens: \n",
    "        if w not in stop_words: \n",
    "            if w not in stop_words1:\n",
    "                filtered_sentence.append(w)\n",
    "    return filtered_sentence"
   ]
  },
  {
   "cell_type": "code",
   "execution_count": 238,
   "metadata": {},
   "outputs": [
    {
     "name": "stdout",
     "output_type": "stream",
     "text": [
      "siang langsung kebidanan terima kasih jadwal kegiatan dies natalis catat tanggalnya semarakkan acaranya coming soon rangkaian acara dies natalis universitas brawijaya beasiswa aminef pengajar bahasa inggris deadline aplikasi tanggal april official beasiswa training studi belgia official ubtv brawijaya periksa klik nomornya tombol selesai klik nilai kompetensi menit excel point word orang berbeda bank unileveridn prosesi penutupan kesehatan gigi nasional univ brawijaya bkgn pepsodent official tanyapepsodent selamat siang jadwal penerimaan mahasiswa kempanrb korpri meneguhkan netralitas meningkatkan profesionalisme aparatur sipil negara selamat korpri https sosialisasi studi beasiswa swedia rektorat free entry kuota terbatas kursi kesempatan terbaru studi negeri beasiswa informasi lengkap forget british winter education fair today gedung kebudayaan mahasiswa official program pertukaran pelajar aminef official fullbright scholarship dibuka silahkan mengunjungi official british winter education fair miss scholarships info many official ubtv brawijaya international student summit agenda tahunan dikti kompetisi mahasiswa asing lokal indonesia official sosialisasi international student summit competition unair kamis rektorat free pengumuman jadwal test sertifikasi kompetensi gelombang nuffic neso daad menawarkan beasiswa pendidikan summer course pelatihan salah partner ritsumeikan university membuka short term exchange program official rektor selamat berbahagialah mahasiswa selamat belajar rajabrawijaya pusaka pelepasan balon rektor dirjen kemenristekdikti dibunyikannya gong resmi pelaksanaan maba rajabrawijaya pusaka rektor universitas brawijaya beserta jajaran undangan memasuki lapangan upacara rajabrawijaya pusaka dukung info pintu gerbang dibuka selasa agustus selesai rajabrawijaya info pintu gerbang dibuka pintu gerbang veteran pintu gerbang rajabrawijaya info penutupan dilaksanakan selasa agustus rajabrawijaya info penutupan jalan masuk pintu gerbang veteran haryono makam kpri rajabrawijaya info sehubungan diselenggarakannya maba rajabrawijaya diberitahukan\n"
     ]
    }
   ],
   "source": [
    "def main():\n",
    "    file = open('tweet-data.txt', 'r')\n",
    "    text_data = file.read()\n",
    "    token = sentence_tokenization(text_data)\n",
    "    text = ' '.join(token)\n",
    "    text1 = casefolding(text)\n",
    "    text2 = removeLink(text1)\n",
    "    text3 = removePunc(text2)\n",
    "    text4 = removeshortwords(text3)\n",
    "    text5 = removeSpace(text4)\n",
    "    text6 = stpword(text5)\n",
    "    text7 = ' '.join(text6)\n",
    "    print(text7)\n",
    "\n",
    "if __name__== \"__main__\":\n",
    "    main()"
   ]
  },
  {
   "cell_type": "code",
   "execution_count": null,
   "metadata": {},
   "outputs": [],
   "source": []
  }
 ],
 "metadata": {
  "kernelspec": {
   "display_name": "Python 3",
   "language": "python",
   "name": "python3"
  },
  "language_info": {
   "codemirror_mode": {
    "name": "ipython",
    "version": 3
   },
   "file_extension": ".py",
   "mimetype": "text/x-python",
   "name": "python",
   "nbconvert_exporter": "python",
   "pygments_lexer": "ipython3",
   "version": "3.6.5"
  }
 },
 "nbformat": 4,
 "nbformat_minor": 2
}
